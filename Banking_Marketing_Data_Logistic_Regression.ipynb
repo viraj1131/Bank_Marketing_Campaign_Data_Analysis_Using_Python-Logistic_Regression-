{
 "cells": [
  {
   "cell_type": "markdown",
   "metadata": {},
   "source": [
    "### Importing Required libraries Pandas for Data manipulation, Sklearn For modelling,Numpy For doing operation on array"
   ]
  },
  {
   "cell_type": "code",
   "execution_count": 1,
   "metadata": {},
   "outputs": [],
   "source": [
    "# import the libraries as required\n",
    "import pandas as pd\n",
    "import sklearn\n",
    "from sklearn.linear_model import LogisticRegression\n",
    "from sklearn.model_selection import train_test_split\n",
    "from sklearn.metrics import confusion_matrix\n",
    "import numpy as np\n",
    "from matplotlib import pyplot as plt"
   ]
  },
  {
   "cell_type": "markdown",
   "metadata": {},
   "source": [
    "### Reading Excel File using read_excel and printing it."
   ]
  },
  {
   "cell_type": "code",
   "execution_count": 2,
   "metadata": {
    "scrolled": true
   },
   "outputs": [
    {
     "data": {
      "text/html": [
       "<div>\n",
       "<style scoped>\n",
       "    .dataframe tbody tr th:only-of-type {\n",
       "        vertical-align: middle;\n",
       "    }\n",
       "\n",
       "    .dataframe tbody tr th {\n",
       "        vertical-align: top;\n",
       "    }\n",
       "\n",
       "    .dataframe thead th {\n",
       "        text-align: right;\n",
       "    }\n",
       "</style>\n",
       "<table border=\"1\" class=\"dataframe\">\n",
       "  <thead>\n",
       "    <tr style=\"text-align: right;\">\n",
       "      <th></th>\n",
       "      <th>age</th>\n",
       "      <th>job</th>\n",
       "      <th>marital</th>\n",
       "      <th>education</th>\n",
       "      <th>default</th>\n",
       "      <th>balance</th>\n",
       "      <th>housing</th>\n",
       "      <th>loan</th>\n",
       "      <th>contact</th>\n",
       "      <th>duration</th>\n",
       "      <th>campaign</th>\n",
       "      <th>deposit</th>\n",
       "    </tr>\n",
       "  </thead>\n",
       "  <tbody>\n",
       "    <tr>\n",
       "      <th>0</th>\n",
       "      <td>49</td>\n",
       "      <td>management</td>\n",
       "      <td>married</td>\n",
       "      <td>tertiary</td>\n",
       "      <td>yes</td>\n",
       "      <td>-6847</td>\n",
       "      <td>no</td>\n",
       "      <td>yes</td>\n",
       "      <td>cellular</td>\n",
       "      <td>206</td>\n",
       "      <td>1</td>\n",
       "      <td>0</td>\n",
       "    </tr>\n",
       "    <tr>\n",
       "      <th>1</th>\n",
       "      <td>39</td>\n",
       "      <td>self-employed</td>\n",
       "      <td>married</td>\n",
       "      <td>tertiary</td>\n",
       "      <td>no</td>\n",
       "      <td>-3058</td>\n",
       "      <td>yes</td>\n",
       "      <td>yes</td>\n",
       "      <td>cellular</td>\n",
       "      <td>882</td>\n",
       "      <td>3</td>\n",
       "      <td>1</td>\n",
       "    </tr>\n",
       "    <tr>\n",
       "      <th>2</th>\n",
       "      <td>52</td>\n",
       "      <td>management</td>\n",
       "      <td>married</td>\n",
       "      <td>tertiary</td>\n",
       "      <td>no</td>\n",
       "      <td>-2712</td>\n",
       "      <td>yes</td>\n",
       "      <td>yes</td>\n",
       "      <td>cellular</td>\n",
       "      <td>253</td>\n",
       "      <td>1</td>\n",
       "      <td>0</td>\n",
       "    </tr>\n",
       "    <tr>\n",
       "      <th>3</th>\n",
       "      <td>49</td>\n",
       "      <td>management</td>\n",
       "      <td>divorced</td>\n",
       "      <td>tertiary</td>\n",
       "      <td>no</td>\n",
       "      <td>-2049</td>\n",
       "      <td>yes</td>\n",
       "      <td>no</td>\n",
       "      <td>unknown</td>\n",
       "      <td>169</td>\n",
       "      <td>3</td>\n",
       "      <td>0</td>\n",
       "    </tr>\n",
       "    <tr>\n",
       "      <th>4</th>\n",
       "      <td>49</td>\n",
       "      <td>entrepreneur</td>\n",
       "      <td>married</td>\n",
       "      <td>secondary</td>\n",
       "      <td>no</td>\n",
       "      <td>-1965</td>\n",
       "      <td>no</td>\n",
       "      <td>yes</td>\n",
       "      <td>telephone</td>\n",
       "      <td>317</td>\n",
       "      <td>2</td>\n",
       "      <td>0</td>\n",
       "    </tr>\n",
       "    <tr>\n",
       "      <th>...</th>\n",
       "      <td>...</td>\n",
       "      <td>...</td>\n",
       "      <td>...</td>\n",
       "      <td>...</td>\n",
       "      <td>...</td>\n",
       "      <td>...</td>\n",
       "      <td>...</td>\n",
       "      <td>...</td>\n",
       "      <td>...</td>\n",
       "      <td>...</td>\n",
       "      <td>...</td>\n",
       "      <td>...</td>\n",
       "    </tr>\n",
       "    <tr>\n",
       "      <th>9995</th>\n",
       "      <td>56</td>\n",
       "      <td>entrepreneur</td>\n",
       "      <td>married</td>\n",
       "      <td>tertiary</td>\n",
       "      <td>no</td>\n",
       "      <td>51439</td>\n",
       "      <td>no</td>\n",
       "      <td>yes</td>\n",
       "      <td>cellular</td>\n",
       "      <td>325</td>\n",
       "      <td>1</td>\n",
       "      <td>0</td>\n",
       "    </tr>\n",
       "    <tr>\n",
       "      <th>9996</th>\n",
       "      <td>61</td>\n",
       "      <td>self-employed</td>\n",
       "      <td>divorced</td>\n",
       "      <td>tertiary</td>\n",
       "      <td>no</td>\n",
       "      <td>52587</td>\n",
       "      <td>no</td>\n",
       "      <td>no</td>\n",
       "      <td>cellular</td>\n",
       "      <td>394</td>\n",
       "      <td>3</td>\n",
       "      <td>1</td>\n",
       "    </tr>\n",
       "    <tr>\n",
       "      <th>9997</th>\n",
       "      <td>61</td>\n",
       "      <td>self-employed</td>\n",
       "      <td>divorced</td>\n",
       "      <td>tertiary</td>\n",
       "      <td>no</td>\n",
       "      <td>52587</td>\n",
       "      <td>no</td>\n",
       "      <td>no</td>\n",
       "      <td>cellular</td>\n",
       "      <td>290</td>\n",
       "      <td>1</td>\n",
       "      <td>1</td>\n",
       "    </tr>\n",
       "    <tr>\n",
       "      <th>9998</th>\n",
       "      <td>43</td>\n",
       "      <td>admin.</td>\n",
       "      <td>single</td>\n",
       "      <td>secondary</td>\n",
       "      <td>no</td>\n",
       "      <td>56831</td>\n",
       "      <td>no</td>\n",
       "      <td>no</td>\n",
       "      <td>unknown</td>\n",
       "      <td>243</td>\n",
       "      <td>1</td>\n",
       "      <td>0</td>\n",
       "    </tr>\n",
       "    <tr>\n",
       "      <th>9999</th>\n",
       "      <td>84</td>\n",
       "      <td>retired</td>\n",
       "      <td>married</td>\n",
       "      <td>secondary</td>\n",
       "      <td>no</td>\n",
       "      <td>81204</td>\n",
       "      <td>no</td>\n",
       "      <td>no</td>\n",
       "      <td>telephone</td>\n",
       "      <td>390</td>\n",
       "      <td>1</td>\n",
       "      <td>1</td>\n",
       "    </tr>\n",
       "  </tbody>\n",
       "</table>\n",
       "<p>10000 rows × 12 columns</p>\n",
       "</div>"
      ],
      "text/plain": [
       "      age            job   marital  education default  balance housing loan  \\\n",
       "0      49     management   married   tertiary     yes    -6847      no  yes   \n",
       "1      39  self-employed   married   tertiary      no    -3058     yes  yes   \n",
       "2      52     management   married   tertiary      no    -2712     yes  yes   \n",
       "3      49     management  divorced   tertiary      no    -2049     yes   no   \n",
       "4      49   entrepreneur   married  secondary      no    -1965      no  yes   \n",
       "...   ...            ...       ...        ...     ...      ...     ...  ...   \n",
       "9995   56   entrepreneur   married   tertiary      no    51439      no  yes   \n",
       "9996   61  self-employed  divorced   tertiary      no    52587      no   no   \n",
       "9997   61  self-employed  divorced   tertiary      no    52587      no   no   \n",
       "9998   43         admin.    single  secondary      no    56831      no   no   \n",
       "9999   84        retired   married  secondary      no    81204      no   no   \n",
       "\n",
       "        contact  duration  campaign  deposit  \n",
       "0      cellular       206         1        0  \n",
       "1      cellular       882         3        1  \n",
       "2      cellular       253         1        0  \n",
       "3       unknown       169         3        0  \n",
       "4     telephone       317         2        0  \n",
       "...         ...       ...       ...      ...  \n",
       "9995   cellular       325         1        0  \n",
       "9996   cellular       394         3        1  \n",
       "9997   cellular       290         1        1  \n",
       "9998    unknown       243         1        0  \n",
       "9999  telephone       390         1        1  \n",
       "\n",
       "[10000 rows x 12 columns]"
      ]
     },
     "execution_count": 2,
     "metadata": {},
     "output_type": "execute_result"
    }
   ],
   "source": [
    "# Reading Dataset Storing into Variable\n",
    "data = pd.read_excel('C:\\Viraj_Studies\\St_Clair_Data_Analytics\\Sem-1\\Analytics_Tools_And_Decision_Making\\Python_Labs\\Modeling_Dataset.xlsx')\n",
    "data"
   ]
  },
  {
   "cell_type": "markdown",
   "metadata": {},
   "source": [
    "### Creating Dummies For each categorical Variables using get_dummies Function."
   ]
  },
  {
   "cell_type": "code",
   "execution_count": 3,
   "metadata": {},
   "outputs": [
    {
     "data": {
      "text/plain": [
       "Index(['age', 'balance', 'duration', 'campaign', 'deposit', 'job_admin.',\n",
       "       'job_blue-collar', 'job_entrepreneur', 'job_housemaid',\n",
       "       'job_management', 'job_retired', 'job_self-employed', 'job_services',\n",
       "       'job_student', 'job_technician', 'job_unemployed', 'job_unknown',\n",
       "       'marital_divorced', 'marital_married', 'marital_single',\n",
       "       'education_primary', 'education_secondary', 'education_tertiary',\n",
       "       'education_unknown', 'default_no', 'default_yes', 'housing_no',\n",
       "       'housing_yes', 'loan_no', 'loan_yes', 'contact_cellular',\n",
       "       'contact_telephone', 'contact_unknown'],\n",
       "      dtype='object')"
      ]
     },
     "execution_count": 3,
     "metadata": {},
     "output_type": "execute_result"
    }
   ],
   "source": [
    "#Creating Dummies for each categorical variables.\n",
    "data = pd.get_dummies(data, columns =['job', 'marital','education', 'default', 'housing', 'loan','contact'])\n",
    "data\n",
    "\n",
    "data.columns"
   ]
  },
  {
   "cell_type": "markdown",
   "metadata": {},
   "source": [
    "### Storing All independent variables in X and Dependent in y using .iloc[] function and printing both X,y "
   ]
  },
  {
   "cell_type": "code",
   "execution_count": 4,
   "metadata": {
    "scrolled": false
   },
   "outputs": [
    {
     "name": "stdout",
     "output_type": "stream",
     "text": [
      "All Independent Variables:\n",
      "       age  balance  duration  campaign  job_admin.  job_blue-collar  \\\n",
      "0      49    -6847       206         1           0                0   \n",
      "1      39    -3058       882         3           0                0   \n",
      "2      52    -2712       253         1           0                0   \n",
      "3      49    -2049       169         3           0                0   \n",
      "4      49    -1965       317         2           0                0   \n",
      "...   ...      ...       ...       ...         ...              ...   \n",
      "9995   56    51439       325         1           0                0   \n",
      "9996   61    52587       394         3           0                0   \n",
      "9997   61    52587       290         1           0                0   \n",
      "9998   43    56831       243         1           1                0   \n",
      "9999   84    81204       390         1           0                0   \n",
      "\n",
      "      job_entrepreneur  job_housemaid  job_management  job_retired  ...  \\\n",
      "0                    0              0               1            0  ...   \n",
      "1                    0              0               0            0  ...   \n",
      "2                    0              0               1            0  ...   \n",
      "3                    0              0               1            0  ...   \n",
      "4                    1              0               0            0  ...   \n",
      "...                ...            ...             ...          ...  ...   \n",
      "9995                 1              0               0            0  ...   \n",
      "9996                 0              0               0            0  ...   \n",
      "9997                 0              0               0            0  ...   \n",
      "9998                 0              0               0            0  ...   \n",
      "9999                 0              0               0            1  ...   \n",
      "\n",
      "      education_unknown  default_no  default_yes  housing_no  housing_yes  \\\n",
      "0                     0           0            1           1            0   \n",
      "1                     0           1            0           0            1   \n",
      "2                     0           1            0           0            1   \n",
      "3                     0           1            0           0            1   \n",
      "4                     0           1            0           1            0   \n",
      "...                 ...         ...          ...         ...          ...   \n",
      "9995                  0           1            0           1            0   \n",
      "9996                  0           1            0           1            0   \n",
      "9997                  0           1            0           1            0   \n",
      "9998                  0           1            0           1            0   \n",
      "9999                  0           1            0           1            0   \n",
      "\n",
      "      loan_no  loan_yes  contact_cellular  contact_telephone  contact_unknown  \n",
      "0           0         1                 1                  0                0  \n",
      "1           0         1                 1                  0                0  \n",
      "2           0         1                 1                  0                0  \n",
      "3           1         0                 0                  0                1  \n",
      "4           0         1                 0                  1                0  \n",
      "...       ...       ...               ...                ...              ...  \n",
      "9995        0         1                 1                  0                0  \n",
      "9996        1         0                 1                  0                0  \n",
      "9997        1         0                 1                  0                0  \n",
      "9998        1         0                 0                  0                1  \n",
      "9999        1         0                 0                  1                0  \n",
      "\n",
      "[10000 rows x 32 columns]\n",
      "\n",
      "Dependent Variable:\n",
      "       deposit\n",
      "0           0\n",
      "1           1\n",
      "2           0\n",
      "3           0\n",
      "4           0\n",
      "...       ...\n",
      "9995        0\n",
      "9996        1\n",
      "9997        1\n",
      "9998        0\n",
      "9999        1\n",
      "\n",
      "[10000 rows x 1 columns]\n"
     ]
    }
   ],
   "source": [
    "# Storing all Independent varibale into X and dependent into Y\n",
    "X = data.loc[:, data.columns != 'deposit']\n",
    "y = data.loc[:, data.columns == 'deposit']\n",
    "print(\"All Independent Variables:\\n\",X)\n",
    "print(\"\\nDependent Variable:\\n\",y)"
   ]
  },
  {
   "cell_type": "markdown",
   "metadata": {},
   "source": [
    "### Splitting Our Dataset into train and test using train_test_split function. Splitting into 70% for training and 30% for test dataset by setting test_size=0.3."
   ]
  },
  {
   "cell_type": "code",
   "execution_count": 5,
   "metadata": {},
   "outputs": [],
   "source": [
    "#Spliting Dataset into Train and Test Split \n",
    "X_train, X_test, y_train, y_test = train_test_split(X, y, random_state=0,test_size=0.3)\n"
   ]
  },
  {
   "cell_type": "markdown",
   "metadata": {},
   "source": [
    "### Fitting Logistic Regression model and trying to train our model.\n"
   ]
  },
  {
   "cell_type": "code",
   "execution_count": 6,
   "metadata": {
    "scrolled": false
   },
   "outputs": [
    {
     "name": "stderr",
     "output_type": "stream",
     "text": [
      "C:\\Users\\modiv\\Anaconda3_2019_10\\envs\\DAB\\lib\\site-packages\\sklearn\\linear_model\\logistic.py:432: FutureWarning: Default solver will be changed to 'lbfgs' in 0.22. Specify a solver to silence this warning.\n",
      "  FutureWarning)\n",
      "C:\\Users\\modiv\\Anaconda3_2019_10\\envs\\DAB\\lib\\site-packages\\sklearn\\utils\\validation.py:724: DataConversionWarning: A column-vector y was passed when a 1d array was expected. Please change the shape of y to (n_samples, ), for example using ravel().\n",
      "  y = column_or_1d(y, warn=True)\n"
     ]
    },
    {
     "data": {
      "text/plain": [
       "LogisticRegression(C=1.0, class_weight=None, dual=False, fit_intercept=True,\n",
       "                   intercept_scaling=1, l1_ratio=None, max_iter=100,\n",
       "                   multi_class='warn', n_jobs=None, penalty='l2',\n",
       "                   random_state=None, solver='warn', tol=0.0001, verbose=0,\n",
       "                   warm_start=False)"
      ]
     },
     "execution_count": 6,
     "metadata": {},
     "output_type": "execute_result"
    }
   ],
   "source": [
    "#Fiting logistic regression to the training set\n",
    "\n",
    "log_reg = LogisticRegression()\n",
    "log_reg.fit(X_train, y_train)"
   ]
  },
  {
   "cell_type": "markdown",
   "metadata": {},
   "source": [
    "### Predicting Our model on test Dataset."
   ]
  },
  {
   "cell_type": "code",
   "execution_count": 7,
   "metadata": {},
   "outputs": [
    {
     "data": {
      "text/plain": [
       "array([1, 1, 1, ..., 0, 1, 1], dtype=int64)"
      ]
     },
     "execution_count": 7,
     "metadata": {},
     "output_type": "execute_result"
    }
   ],
   "source": [
    "# Predicting the test set results\n",
    "y_pred = log_reg.predict(X_test)\n",
    "y_pred"
   ]
  },
  {
   "cell_type": "markdown",
   "metadata": {},
   "source": [
    "### Creating Confusion Matrix which suggest that out of 3000 predicted test observations 1282+1069 = 2351 observation correctly predicted and 302+347= 649 observation incorrectly predicted."
   ]
  },
  {
   "cell_type": "code",
   "execution_count": 8,
   "metadata": {
    "scrolled": true
   },
   "outputs": [
    {
     "name": "stdout",
     "output_type": "stream",
     "text": [
      "[[1282  302]\n",
      " [ 347 1069]]\n"
     ]
    }
   ],
   "source": [
    "#creating Confusion Matrix \n",
    "confusion_matrix = confusion_matrix(y_test, y_pred)\n",
    "print(confusion_matrix)"
   ]
  },
  {
   "cell_type": "markdown",
   "metadata": {},
   "source": [
    "### Using Score Function finding Accuracy of model which is 78%."
   ]
  },
  {
   "cell_type": "code",
   "execution_count": 9,
   "metadata": {
    "scrolled": true
   },
   "outputs": [
    {
     "name": "stdout",
     "output_type": "stream",
     "text": [
      "Accuracy of logistic regression:\n",
      " 0.7836666666666666\n"
     ]
    }
   ],
   "source": [
    "#Finding Accuracy of Model\n",
    "Accuracy = log_reg.score(X_test, y_test)\n",
    "print('Accuracy of logistic regression:\\n',Accuracy)"
   ]
  }
 ],
 "metadata": {
  "kernelspec": {
   "display_name": "Python 3",
   "language": "python",
   "name": "python3"
  },
  "language_info": {
   "codemirror_mode": {
    "name": "ipython",
    "version": 3
   },
   "file_extension": ".py",
   "mimetype": "text/x-python",
   "name": "python",
   "nbconvert_exporter": "python",
   "pygments_lexer": "ipython3",
   "version": "3.7.5"
  }
 },
 "nbformat": 4,
 "nbformat_minor": 2
}
